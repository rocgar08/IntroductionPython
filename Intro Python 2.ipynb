{
 "cells": [
  {
   "cell_type": "markdown",
   "id": "25a957f3",
   "metadata": {},
   "source": [
    "# Ejercicio 1\n",
    "Generar un número aleatorio entre 1 y 20. Luego informar si el número tiene uno o dos dígito"
   ]
  },
  {
   "cell_type": "code",
   "execution_count": 6,
   "id": "68176a83",
   "metadata": {},
   "outputs": [
    {
     "name": "stdout",
     "output_type": "stream",
     "text": [
      "El numero 2 tiene mesos de 2 digitos\n"
     ]
    }
   ],
   "source": [
    "import random\n",
    "rnum=random.randint(1,20)\n",
    "if(rnum<10):\n",
    "    print(\"El numero %d tiene mesos de 2 digitos\"%(rnum))\n",
    "else:\n",
    "    print(\"El numero %d tiene más de 1 digitos\"%(rnum))"
   ]
  },
  {
   "cell_type": "markdown",
   "id": "9d088775",
   "metadata": {},
   "source": [
    "# Ejercicio 2\n",
    "Crear un comparador de años. Se debe pedir el año actual y, después, un año que aleatorio. Una vez introducidos estos datos, deben aparecer los siguientes mensajes:\n",
    "\n",
    "Desde el año xxx han pasado yyy años.\n",
    "Para llegar al año xxxx faltan yyy años.\n",
    "xxx es la fecha que has puesto en segundo lugar (la que te apetecía).\n",
    "yyy es la resta entre las dos fechas.\n",
    "Los mensajes aparecerán según si la segunda fecha es mayor o menor a la actual.\n"
   ]
  },
  {
   "cell_type": "code",
   "execution_count": 9,
   "id": "f0ac0cec",
   "metadata": {},
   "outputs": [
    {
     "name": "stdout",
     "output_type": "stream",
     "text": [
      "Comparador de años \n",
      "Dime el año actual: 2024\n",
      "Para llegar al año 2083 faltan 59 años\n"
     ]
    }
   ],
   "source": [
    "import random\n",
    "print(\"Comparador de años \")\n",
    "year=int(input(\"Dime el año actual: \"))\n",
    "randyear=random.randint(2000,2100)\n",
    "#La solución de la profesora en vez de pedir un año aleatorio es pedir por teclado al usario un año aleaotorio es decir,\n",
    "#randyear=int(input(\"Dime cualquier otro año el que quieras: \"))\n",
    "if(year > randyear):\n",
    "    printf(\"Desde el año\",randyear,\"han pasado\", year-randyear)\n",
    "elif(randyear> year):\n",
    "    print(\"Para llegar al año\",randyear,\"faltan\",randyear-year,\"años\")\n",
    "\n",
    "\n"
   ]
  },
  {
   "cell_type": "markdown",
   "id": "5365c9a9",
   "metadata": {},
   "source": [
    "# Ejercicio 3\n",
    "## Ejercicio 3.1\n",
    "\n",
    "Escribir un programa que pida dos valores enteros y que imprima por pantalla:\n",
    "\n",
    "Si el primero es menor que el segundo, que imprima el mensaje “Primero menor”.\n",
    "Si el segundo es menor que el primero, que imprima el mensaje “Segundo menor”.\n",
    "Si los números son iguales, que imprima el mensaje “Son iguales”."
   ]
  },
  {
   "cell_type": "code",
   "execution_count": 10,
   "id": "b16154b3",
   "metadata": {},
   "outputs": [
    {
     "name": "stdout",
     "output_type": "stream",
     "text": [
      "Introduce un nº entero: 2\n",
      "Introduce otro nº entero: 1\n",
      "Segundo menor\n"
     ]
    }
   ],
   "source": [
    "num1=int(input(\"Introduce un nº entero: \"))\n",
    "num2=int(input(\"Introduce otro nº entero: \"))\n",
    "if(num1 < num2):\n",
    "    print(\"Primero menor\")\n",
    "elif(num2 < num1):\n",
    "    print(\"Segundo menor\")\n",
    "else:\n",
    "    print(\"Sonn iguales\")"
   ]
  },
  {
   "cell_type": "markdown",
   "id": "029a5552",
   "metadata": {},
   "source": [
    "# Ejercicio 3.2\n",
    "Escribir un programa que pida un número entero y escriba por pantalla:\n",
    "\n",
    "“El número introducido es PAR”, en el caso de que sea par.\n",
    "“El número introducido es IMPAR”, en el caso de que sea impar"
   ]
  },
  {
   "cell_type": "code",
   "execution_count": 11,
   "id": "334e7e20",
   "metadata": {},
   "outputs": [
    {
     "name": "stdout",
     "output_type": "stream",
     "text": [
      "Introduce un nº entero: 15\n",
      "El número introducido es IMPAR\n"
     ]
    }
   ],
   "source": [
    "num=int(input(\"Introduce un nº entero: \"))\n",
    "if(num%2==0):\n",
    "    print(\"El número introducido es PAR\")\n",
    "else:\n",
    "    print(\"El número introducido es IMPAR\")"
   ]
  },
  {
   "cell_type": "code",
   "execution_count": 12,
   "id": "455ccc18",
   "metadata": {},
   "outputs": [
    {
     "name": "stdout",
     "output_type": "stream",
     "text": [
      "var4' Es booleano\n"
     ]
    }
   ],
   "source": [
    "var4=True\n",
    "if type(var4) is bool:\n",
    "    print(\"var4' Es booleano\")\n",
    "else:\n",
    "    print(\"var4' no es bool\")"
   ]
  },
  {
   "cell_type": "code",
   "execution_count": 14,
   "id": "25cb84ec",
   "metadata": {},
   "outputs": [
    {
     "name": "stdout",
     "output_type": "stream",
     "text": [
      "True\n"
     ]
    }
   ],
   "source": [
    "b = (True if 5 > 4 else False)\n",
    "print (b)"
   ]
  },
  {
   "cell_type": "code",
   "execution_count": 15,
   "id": "1f4ca751",
   "metadata": {},
   "outputs": [
    {
     "data": {
      "text/plain": [
       "True"
      ]
     },
     "execution_count": 15,
     "metadata": {},
     "output_type": "execute_result"
    }
   ],
   "source": [
    "9 < 12 and 12 > 7"
   ]
  },
  {
   "cell_type": "code",
   "execution_count": null,
   "id": "7dfdb5f9",
   "metadata": {},
   "outputs": [],
   "source": []
  }
 ],
 "metadata": {
  "kernelspec": {
   "display_name": "Python 3 (ipykernel)",
   "language": "python",
   "name": "python3"
  },
  "language_info": {
   "codemirror_mode": {
    "name": "ipython",
    "version": 3
   },
   "file_extension": ".py",
   "mimetype": "text/x-python",
   "name": "python",
   "nbconvert_exporter": "python",
   "pygments_lexer": "ipython3",
   "version": "3.11.5"
  }
 },
 "nbformat": 4,
 "nbformat_minor": 5
}
