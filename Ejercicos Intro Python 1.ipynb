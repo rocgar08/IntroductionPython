{
 "cells": [
  {
   "cell_type": "markdown",
   "id": "ea7dc84f",
   "metadata": {},
   "source": [
    "# Introducción Mod1\n",
    "### Ejercicio 1\n",
    "Pedir el nombre de un producto por teclado y su peso (teniendo en cuenta que puede tener decimales). Mostrar los datos por pantalla teniendo en cuenta que, si el peso introducido tiene más de 3 decimales, se requiere redondearlo exactamente a 2\n"
   ]
  },
  {
   "cell_type": "code",
   "execution_count": 10,
   "id": "f2916f9e",
   "metadata": {},
   "outputs": [
    {
     "name": "stdout",
     "output_type": "stream",
     "text": [
      "Dime una fruta: kiwi\n",
      "Dime su peso: 3.768\n",
      "kiwi 3.77\n"
     ]
    }
   ],
   "source": [
    "producto=input(\"Dime una fruta: \")\n",
    "peso=float(input(\"Dime su peso: \"))\n",
    "#opcion Rocio\n",
    "print(producto,round(peso,2))\n",
    "#opción profesora\n",
    "#print(\"El prodcuto introducido es %s y pesa %.2f\"%(producto,peso))"
   ]
  },
  {
   "cell_type": "markdown",
   "id": "3a72f6d2",
   "metadata": {},
   "source": [
    "# Ejercicio 2\n",
    "Realizar un programa que pida un **número entero** al usuario e informe del valor del cociente y el resto de dividirlo por dos"
   ]
  },
  {
   "cell_type": "code",
   "execution_count": 15,
   "id": "7799da3e",
   "metadata": {},
   "outputs": [
    {
     "name": "stdout",
     "output_type": "stream",
     "text": [
      "Dime un numero que sea distinto de 0: 12\n",
      "El numero introducido es 12, su cociente 6, y el resto 0 \n"
     ]
    }
   ],
   "source": [
    "numero=int(input(\"Dime un numero que sea distinto de 0: \"))\n",
    "cociente=numero/2\n",
    "resto=numero%2\n",
    "print(\"El numero introducido es %d, su cociente %d, y el resto %d \" %(numero,cociente,resto))\n"
   ]
  },
  {
   "cell_type": "markdown",
   "id": "60e3a733",
   "metadata": {},
   "source": [
    "## Ejercicio 3\n",
    "### Ejercicio 3.1 \n",
    "\n",
    "Realizar un programa en Python que imprima por pantalla los datos que se le han pedido por teclado:\n",
    "Nombre,\n",
    "Apellidos,\n",
    "Edad,\n",
    "DNI,\n",
    "Domicilio"
   ]
  },
  {
   "cell_type": "code",
   "execution_count": 16,
   "id": "d3a11724",
   "metadata": {},
   "outputs": [
    {
     "name": "stdout",
     "output_type": "stream",
     "text": [
      "Dime tu nombre: Rocio\n",
      "Dime tu apellido: Garcia\n",
      "Dime tu edad: 27\n",
      "Dime tu DNI: 1234567\n",
      "Dime tu domicilio: No existo no lo se\n"
     ]
    }
   ],
   "source": [
    "nombre= input(\"Dime tu nombre: \")\n",
    "apellidos= input (\"Dime tu apellido: \")\n",
    "edad=int(input(\"Dime tu edad: \"))\n",
    "DNI=input(\"Dime tu DNI: \")\n",
    "Domicilio=input(\"Dime tu domicilio: \")"
   ]
  },
  {
   "cell_type": "markdown",
   "id": "4fa0e612",
   "metadata": {},
   "source": [
    "## Ejercicio 3.2\n",
    "\n",
    "Realizar un programa en Python que calcule el área (en metros cuadrados) y el perímetro (en metros) de un cuadrado 5 metros de lado.\n"
   ]
  },
  {
   "cell_type": "code",
   "execution_count": 19,
   "id": "840f0622",
   "metadata": {},
   "outputs": [
    {
     "name": "stdout",
     "output_type": "stream",
     "text": [
      "Dime un numero entero para calcular el area y perimetro de un cuadrado: 2\n",
      "El area del cuadrado es 4 y su perimetro es 8\n"
     ]
    }
   ],
   "source": [
    "lado=int(input(\"Dime un numero entero para calcular el area y perimetro de un cuadrado: \"))\n",
    "area =lado*lado\n",
    "perimetro = 4*lado\n",
    "print(\"El area del cuadrado es %d y su perimetro es %d\"%(area,perimetro))"
   ]
  },
  {
   "cell_type": "code",
   "execution_count": null,
   "id": "dd96fd1b",
   "metadata": {},
   "outputs": [],
   "source": []
  }
 ],
 "metadata": {
  "kernelspec": {
   "display_name": "Python 3 (ipykernel)",
   "language": "python",
   "name": "python3"
  },
  "language_info": {
   "codemirror_mode": {
    "name": "ipython",
    "version": 3
   },
   "file_extension": ".py",
   "mimetype": "text/x-python",
   "name": "python",
   "nbconvert_exporter": "python",
   "pygments_lexer": "ipython3",
   "version": "3.11.5"
  }
 },
 "nbformat": 4,
 "nbformat_minor": 5
}
