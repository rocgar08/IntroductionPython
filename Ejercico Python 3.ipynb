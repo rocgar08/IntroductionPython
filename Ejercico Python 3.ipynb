{
 "cells": [
  {
   "cell_type": "markdown",
   "id": "6450ee47",
   "metadata": {},
   "source": [
    "# Ejercicio 1\n",
    "Imprimir los números impares desde el 1 al 25, ambos inclusive."
   ]
  },
  {
   "cell_type": "code",
   "execution_count": 1,
   "id": "3424eed7",
   "metadata": {},
   "outputs": [
    {
     "name": "stdout",
     "output_type": "stream",
     "text": [
      "1\n",
      "3\n",
      "5\n",
      "7\n",
      "9\n",
      "11\n",
      "13\n",
      "15\n",
      "17\n",
      "19\n",
      "21\n",
      "23\n",
      "25\n"
     ]
    }
   ],
   "source": [
    "for i in range(1,26):\n",
    "    if i%2==1:\n",
    "        print(i)\n",
    "    "
   ]
  },
  {
   "cell_type": "markdown",
   "id": "9a4486c5",
   "metadata": {},
   "source": [
    "# Solución profesora"
   ]
  },
  {
   "cell_type": "code",
   "execution_count": 11,
   "id": "2e6b1fbf",
   "metadata": {},
   "outputs": [
    {
     "name": "stdout",
     "output_type": "stream",
     "text": [
      "135791113151719212325\n"
     ]
    }
   ],
   "source": [
    "n=1\n",
    "res=''\n",
    "while(n<=25):\n",
    "    if(n%2==1):\n",
    "        res += '%i' %n\n",
    "    n+=1\n",
    "print(res)"
   ]
  },
  {
   "cell_type": "markdown",
   "id": "2a7b8311",
   "metadata": {},
   "source": [
    "# Ejercicio 2\n",
    "realizar un programa que pida cinco números decimales, calcular su media e informar del resultado por pantalla"
   ]
  },
  {
   "cell_type": "code",
   "execution_count": 16,
   "id": "24fa70b0",
   "metadata": {},
   "outputs": [
    {
     "name": "stdout",
     "output_type": "stream",
     "text": [
      "Introduce un nº entero: 1\n",
      "Introduce un nº entero: 2\n",
      "Introduce un nº entero: 3\n",
      "Introduce un nº entero: 4\n",
      "Introduce un nº entero: 5\n",
      "La media es:  3.0\n"
     ]
    }
   ],
   "source": [
    "cont=0\n",
    "for i in range (0,5):\n",
    "    num=float(input(\"Introduce un nº entero: \"))\n",
    "    cont+=num\n",
    "print(\"La media es: \",cont/5)"
   ]
  },
  {
   "cell_type": "markdown",
   "id": "b8bc8fed",
   "metadata": {},
   "source": [
    "# Ejercicio 2\n",
    "Escribir un programa que pregunte cuántos números se van a introducir, pedir esos números y escribir cuántos negativos ha introducido.\n",
    "\n",
    "\n"
   ]
  },
  {
   "cell_type": "code",
   "execution_count": 18,
   "id": "077fb477",
   "metadata": {},
   "outputs": [
    {
     "name": "stdout",
     "output_type": "stream",
     "text": [
      "Cuantos numeros vas a introducir?5\n",
      "Introduce un nº1\n",
      "Introduce un nº2\n",
      "Introduce un nº3\n",
      "Introduce un nº4\n",
      "Introduce un nº5\n",
      "Hay estos numeros negativos: 0\n"
     ]
    }
   ],
   "source": [
    "longitud= int(input(\"Cuantos numeros vas a introducir?: \"))\n",
    "i=0\n",
    "negativos=0\n",
    "while(i<longitud):\n",
    "    num=int(input(\"Introduce un nº: \"))\n",
    "    if(num < 0):\n",
    "        negativos+=1\n",
    "    i+=1\n",
    "print(\"Hay estos numeros negativos:\", negativos)\n",
    "    "
   ]
  },
  {
   "cell_type": "markdown",
   "id": "9e132288",
   "metadata": {},
   "source": [
    "# Ejercicio 3\n",
    "Realizar un programa que muestre por pantalla la siguiente secuencia:\n",
    "1 2 3 4 5 6 7 8 9 10 11 12 13 14 15 16 17 18 19 20"
   ]
  },
  {
   "cell_type": "code",
   "execution_count": 21,
   "id": "9c24c2eb",
   "metadata": {},
   "outputs": [
    {
     "name": "stdout",
     "output_type": "stream",
     "text": [
      "1\n",
      "2\n",
      "3\n",
      "4\n",
      "5\n",
      "6\n",
      "7\n",
      "8\n",
      "9\n",
      "10\n",
      "11\n",
      "12\n",
      "13\n",
      "14\n",
      "15\n",
      "16\n",
      "17\n",
      "18\n",
      "19\n",
      "20\n"
     ]
    }
   ],
   "source": [
    "for i in range(1,21):\n",
    "    print(i)"
   ]
  },
  {
   "cell_type": "code",
   "execution_count": 26,
   "id": "6496e560",
   "metadata": {},
   "outputs": [
    {
     "name": "stdout",
     "output_type": "stream",
     "text": [
      "0\n",
      "2\n",
      "4\n",
      "6\n",
      "8\n"
     ]
    }
   ],
   "source": [
    "for i in range (0,10,2): #inicio=0 final=9 salta de 2 en 2\n",
    "    print (i)"
   ]
  },
  {
   "cell_type": "code",
   "execution_count": null,
   "id": "fca63354",
   "metadata": {},
   "outputs": [],
   "source": []
  }
 ],
 "metadata": {
  "kernelspec": {
   "display_name": "Python 3 (ipykernel)",
   "language": "python",
   "name": "python3"
  },
  "language_info": {
   "codemirror_mode": {
    "name": "ipython",
    "version": 3
   },
   "file_extension": ".py",
   "mimetype": "text/x-python",
   "name": "python",
   "nbconvert_exporter": "python",
   "pygments_lexer": "ipython3",
   "version": "3.11.5"
  }
 },
 "nbformat": 4,
 "nbformat_minor": 5
}
